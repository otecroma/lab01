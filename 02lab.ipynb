{
 "cells": [
  {
   "cell_type": "code",
   "execution_count": 2,
   "metadata": {},
   "outputs": [],
   "source": [
    "import numpy as np   \n",
    "\n",
    "import matplotlib.pyplot as plt\n",
    "\n",
    "import time      #імпортуємо time для роботи з часом\n",
    "\n",
    "import tracemalloc   #інструмент для відстеження і аналізу використання пам'яті"
   ]
  },
  {
   "cell_type": "code",
   "execution_count": null,
   "metadata": {},
   "outputs": [],
   "source": [
    "import numpy as np   \n",
    "\n",
    "import matplotlib.pyplot as plt\n",
    "\n",
    "import time      #імпортуємо time для роботи з часом\n",
    "\n",
    "import tracemalloc   #інструмент для відстеження і аналізу використання пам'яті\n",
    "\n",
    "random_10_int_array = np.random.randint(0, 100, size=10) \n",
    "random_10_float_array = np.random.uniform(0.1, 99.9, size=10) \n",
    " \n",
    "random_100_int_array = np.random.randint(0, 100, size=100) \n",
    "random_100_float_array = np.random.uniform(0.1, 99.9, size=100) \n",
    " \n",
    "random_1000_int_array = np.random.randint(0, 100, size=1000) \n",
    "random_1000_float_array = np.random.uniform(0.1, 99.9, size=1000) \n",
    "\n",
    " \n",
    "random_10000_int_array = np.random.randint(0, 100, size=10000) \n",
    "random_10000_float_array = np.random.uniform(0.1, 99.9, size=10000) \n",
    " "
   ]
  }
 ],
 "metadata": {
  "kernelspec": {
   "display_name": "Python 3",
   "language": "python",
   "name": "python3"
  },
  "language_info": {
   "codemirror_mode": {
    "name": "ipython",
    "version": 3
   },
   "file_extension": ".py",
   "mimetype": "text/x-python",
   "name": "python",
   "nbconvert_exporter": "python",
   "pygments_lexer": "ipython3",
   "version": "3.12.3"
  }
 },
 "nbformat": 4,
 "nbformat_minor": 2
}
